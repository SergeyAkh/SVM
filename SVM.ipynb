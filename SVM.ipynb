{
 "cells": [
  {
   "cell_type": "markdown",
   "id": "26c67f74-e1c1-4f8a-8456-3ee83e96aab3",
   "metadata": {},
   "source": [
    "SVM for liniarly seperated data\n",
    "\n",
    "The objective of SVM is to find the hyperplane that maximizes the margin between two classes. The equation for the hyperplane can be expressed as:\n",
    "\n",
    "$$\n",
    "w^T x + b = 0\n",
    "$$\n",
    "\n",
    "Where:\n",
    "- \\( w \\) is the weight vector.\n",
    "- \\( x \\) is the input feature vector.\n",
    "- \\( b \\) is the bias term.\n",
    "\n",
    "The margin is defined as the distance between the hyperplane and the closest data points from each class, known as support vectors. The optimization problem can be formulated as:\n",
    "\n",
    "$$\n",
    "\\begin{align*}\n",
    "    \\begin{cases}\n",
    "        \\min_{w,b,\\xi} \\frac{1}{2} \\| w \\|^2+C\\displaystyle\\sum_{i=1}^l \\xi_i\\\\\n",
    "        y_i (w^T x_i + b) \\geq 1 - \\xi_i, \\quad \\forall i\\\\\n",
    "        \\xi_i\\geq0\n",
    "    \\end{cases}\n",
    "\\end{align*}\n",
    "$$\n",
    "\n",
    "\n",
    "\n",
    "Where:\n",
    "- \\(y_i) is the class label of the training example \\( x_i \\) (either +1 or -1).\n",
    "- \\( i \\) indexes the training examples.\n",
    "- \\(kxi_i) \n",
    "\n",
    "Let's wright down a Lograngian"
   ]
  },
  {
   "cell_type": "markdown",
   "id": "53e55e63-643d-4a63-9511-11f32cb668b8",
   "metadata": {},
   "source": [
    "Here is a system of equations represented with a system symbol:\n",
    "\n",
    "$$\n",
    "\\begin{align*}\n",
    "    \\begin{cases}\n",
    "        ax + by = c \\\\\n",
    "        dx + ey = f\n",
    "    \\end{cases}\n",
    "\\end{align*}\n",
    "$$\n",
    "\n",
    "Where:\n",
    "- \\( a, b, c, d, e, f \\) are constants.\n",
    "- \\( x \\) and \\( y \\) are the variables we want to solve for."
   ]
  },
  {
   "cell_type": "code",
   "execution_count": null,
   "id": "a3ef6d76-db68-4755-8ae1-3dc74d47e27f",
   "metadata": {},
   "outputs": [],
   "source": []
  },
  {
   "cell_type": "code",
   "execution_count": null,
   "id": "58399923-0683-4651-85c8-45f91093c7dd",
   "metadata": {},
   "outputs": [],
   "source": []
  },
  {
   "cell_type": "code",
   "execution_count": null,
   "id": "cc98168f-bb13-46cf-9947-3ef8704e9860",
   "metadata": {},
   "outputs": [],
   "source": []
  }
 ],
 "metadata": {
  "kernelspec": {
   "display_name": "Python 3 (ipykernel)",
   "language": "python",
   "name": "python3"
  },
  "language_info": {
   "codemirror_mode": {
    "name": "ipython",
    "version": 3
   },
   "file_extension": ".py",
   "mimetype": "text/x-python",
   "name": "python",
   "nbconvert_exporter": "python",
   "pygments_lexer": "ipython3",
   "version": "3.12.4"
  }
 },
 "nbformat": 4,
 "nbformat_minor": 5
}
